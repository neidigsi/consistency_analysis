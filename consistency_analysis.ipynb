{
 "cells": [
  {
   "cell_type": "markdown",
   "metadata": {},
   "source": [
    "# Scenario Analysis: Consitency Analysis"
   ]
  },
  {
   "cell_type": "markdown",
   "metadata": {},
   "source": [
    "For the execution of the script the library Pandas is used. This is imported in this step."
   ]
  },
  {
   "cell_type": "code",
   "execution_count": 1,
   "metadata": {},
   "outputs": [],
   "source": [
    "#############################################\n",
    "#\n",
    "# IMPORTS\n",
    "#\n",
    "#############################################\n",
    "\n",
    "import pandas as pd"
   ]
  },
  {
   "cell_type": "markdown",
   "metadata": {},
   "source": [
    "The key factors must be specified in a list. \n",
    "For each factor a list with the name of all possible projections is defined. \n",
    "Based on the specification of these projections, the generally possible scenarios are calculated."
   ]
  },
  {
   "cell_type": "code",
   "execution_count": 2,
   "metadata": {},
   "outputs": [],
   "source": [
    "#############################################\n",
    "#\n",
    "# Definition of VARIABLES\n",
    "#\n",
    "#############################################\n",
    "\n",
    "key_factor_projections = [\n",
    "        [\"A1A\", \"A1B\"],\n",
    "        [\"A2A\", \"A2B\", \"A2C\"],\n",
    "        [\"A3A\", \"A3B\"],\n",
    "        [\"A4A\", \"A4B\"],\n",
    "        [\"B1A\", \"B1B\"],\n",
    "        [\"B2A\", \"B2B\"],\n",
    "        [\"C1A\", \"C1B\"],\n",
    "        [\"C2A\", \"C2B\"],\n",
    "        [\"D1A\", \"D1B\"],\n",
    "        [\"D2A\", \"D2B\"],\n",
    "        [\"E1A\", \"E1B\"],\n",
    "        [\"E2A\", \"E2B\"],\n",
    "]"
   ]
  },
  {
   "cell_type": "markdown",
   "metadata": {},
   "source": [
    "Now all required functions are implemented. Finally, these can be easily called to perform a consistency analysis."
   ]
  },
  {
   "cell_type": "code",
   "execution_count": 3,
   "metadata": {},
   "outputs": [],
   "source": [
    "#############################################\n",
    "#\n",
    "# Definition of FUNCTIONS\n",
    "#\n",
    "#############################################\n",
    "\n",
    "def get_possible_scenarios(key_factor_projections):\n",
    "    '''\n",
    "        Receives an list of lists of strings with each list representing one key factor\n",
    "        and each string in the list the name of one projection of the key factor.\n",
    "            key_factor_projections = [[str]]\n",
    "\n",
    "        It returns a list of lists of strings, where each list represents one possible szenario\n",
    "        and the strings the projection of a key factor in the scenario.\n",
    "    '''\n",
    "    if len(key_factor_projections) == 1:\n",
    "        return [[projection] for projection in key_factor_projections[0]]\n",
    "    else:\n",
    "        possible_scenarios = []\n",
    "        # Get possible scenarios without the first key factor\n",
    "        end_scenarios = get_possible_scenarios(key_factor_projections[1:])\n",
    "\n",
    "        # Iterate through all projections of the first factor\n",
    "        for projection in key_factor_projections[0]:\n",
    "\n",
    "            # Combine each projection with the possible scenarions without the first key factor\n",
    "            for end_scenario in end_scenarios:\n",
    "                s = [projection]\n",
    "                s.extend(end_scenario)\n",
    "                possible_scenarios.append(s)\n",
    "\n",
    "        # Return all possible scenario combinations\n",
    "        return possible_scenarios\n",
    "\n",
    "def read_consitency_matrix(path):\n",
    "    '''\n",
    "        With this method, the consistency martix is read in.\n",
    "        The matrix is defined by its file path and will be returned\n",
    "        as pandas-dataframe.\n",
    "    '''\n",
    "    return pd.read_csv(path, sep=\";\")\n",
    "\n",
    "def get_consitency(a, b, consistency_matrix):\n",
    "    '''\n",
    "        This function function returns the consitency of given factor\n",
    "        a and b as it is defined in the consitency matrix.\n",
    "    '''\n",
    "    # Get the row of the consistency matrix by the second projection\n",
    "    row = consistency_matrix.loc[consistency_matrix[\"key factor\"] == b]\n",
    "    try:\n",
    "        # Return the column value\n",
    "        return int(row[a])\n",
    "    except:\n",
    "        # If there is a key error return 0\n",
    "        return 0\n",
    "\n",
    "def get_consitency_for_scenario(scenario, consitency_matrix):\n",
    "    '''\n",
    "        This functions calculates the consitency for a scenario given as list of projections.\n",
    "        E.g.:\n",
    "            [A1A, A2A, A3A, A4A, B1A, B2A, C1A, C2A, D1A, D2A, E1A, E2A]\n",
    "\n",
    "        It returns the consitency as integer.\n",
    "    '''\n",
    "    if len(scenario) == 0:\n",
    "        return 0\n",
    "    first_projection = scenario[0]\n",
    "    consistency = 0\n",
    "    for projection in scenario[1:]:\n",
    "        consistency += get_consitency(first_projection, projection, consitency_matrix)\n",
    "    return consistency + get_consitency_for_scenario(scenario[1:], consitency_matrix)\n",
    "\n",
    "def get_consistencies(scenarios, consistency_matrix):\n",
    "    '''\n",
    "        This function iterates over all given scenarios and calculates the consistency\n",
    "        for them. Finally it returns the scenarios with their consistency in descending\n",
    "        order.\n",
    "    '''\n",
    "    consistencies = []\n",
    "    for scenario in scenarios:\n",
    "        consistencies.append((scenario, get_consitency_for_scenario(scenario, consistency_matrix)))\n",
    "    return sorted(consistencies, key=lambda x:(-x[1],x[0]))\n",
    "\n",
    "def consistencies_to_file(path, consistencies):\n",
    "    '''\n",
    "        This method writes all consistencies to a file. It get the path\n",
    "        and the scenarios with their consistency as a tuple list.\n",
    "    '''\n",
    "    res_df = pd.DataFrame()\n",
    "\n",
    "    scenarios = [i[0] for i in consistencies]\n",
    "    consistency_values = [i[1] for i in consistencies]\n",
    "\n",
    "    res_df[\"scenario\"] = scenarios\n",
    "    res_df[\"consistency\"] = consistency_values\n",
    "    res_df.to_csv(path, index=False, sep=\"\\t\")"
   ]
  },
  {
   "cell_type": "markdown",
   "metadata": {},
   "source": [
    "Finally, the functions defined above are called with the data from the analysis. The scenarios including their consistency are written in descending order to the file \"consistencies.csv\"."
   ]
  },
  {
   "cell_type": "code",
   "execution_count": 4,
   "metadata": {},
   "outputs": [],
   "source": [
    "#############################################\n",
    "#\n",
    "# Execution of FUNCTIONS\n",
    "#\n",
    "#############################################\n",
    "\n",
    "possible_scenarios = get_possible_scenarios(key_factor_projections)\n",
    "consistency_matrix = read_consitency_matrix(\"./consistency_matrix.csv\")\n",
    "consistencies = get_consistencies(possible_scenarios, consistency_matrix)\n",
    "consistencies_to_file(\"./consistencies.csv\", consistencies)"
   ]
  }
 ],
 "metadata": {
  "interpreter": {
   "hash": "949777d72b0d2535278d3dc13498b2535136f6dfe0678499012e853ee9abcab1"
  },
  "kernelspec": {
   "display_name": "Python 3.6.12 64-bit",
   "name": "python3"
  },
  "language_info": {
   "codemirror_mode": {
    "name": "ipython",
    "version": 3
   },
   "file_extension": ".py",
   "mimetype": "text/x-python",
   "name": "python",
   "nbconvert_exporter": "python",
   "pygments_lexer": "ipython3",
   "version": "3.8.9"
  },
  "orig_nbformat": 4
 },
 "nbformat": 4,
 "nbformat_minor": 2
}
